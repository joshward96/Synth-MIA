{
 "cells": [
  {
   "cell_type": "markdown",
   "metadata": {},
   "source": [
    "# Deploying Multiple MIA Attacks in Synth-MIA\n",
    "\n",
    "This notebook demonstrates how to deploy multiple Membership Inference Attack (MIA) methods and compare their performance across different metrics.\n",
    "\n",
    "## Overview\n",
    "\n",
    "When auditing the privacy of synthetic data, it's often valuable to test multiple attack strategies to get a comprehensive view of potential vulnerabilities. Different attacks may perform better under different conditions or reveal different types of privacy leakage.\n",
    "\n",
    "This notebook shows how to:\n",
    "- Load and prepare data for multiple attacks\n",
    "- Initialize various MIA attackers with different strategies\n",
    "- Run all attacks systematically\n",
    "- Compare and analyze results across different methods"
   ]
  },
  {
   "cell_type": "markdown",
   "metadata": {},
   "source": [
    "## Import Libraries and Load Data\n",
    "\n",
    "First, let's import the necessary libraries and load our example dataset."
   ]
  },
  {
   "cell_type": "code",
   "execution_count": 1,
   "metadata": {},
   "outputs": [
    {
     "name": "stdout",
     "output_type": "stream",
     "text": [
      "Data loaded successfully:\n",
      "  Members: (200, 9)\n",
      "  Non-members: (200, 9)\n",
      "  Synthetic: (200, 9)\n",
      "  Reference: (200, 9)\n"
     ]
    }
   ],
   "source": [
    "import pandas as pd\n",
    "from synth_mia.attackers import *\n",
    "\n",
    "# Load the datasets from the housing example\n",
    "mem = pd.read_csv('../example_data/housing/mem.csv').values\n",
    "non_mem = pd.read_csv('../example_data/housing/non_mem.csv').values\n",
    "synth = pd.read_csv('../example_data/housing/synth.csv').values\n",
    "ref = pd.read_csv('../example_data/housing/ref.csv').values\n",
    "\n",
    "print(f\"Data loaded successfully:\")\n",
    "print(f\"  Members: {mem.shape}\")\n",
    "print(f\"  Non-members: {non_mem.shape}\")\n",
    "print(f\"  Synthetic: {synth.shape}\")\n",
    "print(f\"  Reference: {ref.shape}\")"
   ]
  },
  {
   "cell_type": "markdown",
   "metadata": {},
   "source": [
    "## Initialize Multiple Attackers\n",
    "\n",
    "Now we'll create instances of various attack methods available in Synth-MIA. Each attacker implements a different strategy for inferring membership:\n",
    "\n",
    "You can adjust hyperparameters for each attacker as needed."
   ]
  },
  {
   "cell_type": "code",
   "execution_count": null,
   "metadata": {},
   "outputs": [
    {
     "name": "stdout",
     "output_type": "stream",
     "text": [
      "Initialized 10 different attack methods:\n",
      "  1. Gen-LRA\n",
      "  2. DCR\n",
      "  3. DPI\n",
      "  4. LOGAN\n",
      "  5. DCR-Diff\n",
      "  6. DOMIAS\n",
      "  7. MC\n",
      "  8. Density Estimator\n",
      "  9. Local Neighborhood\n",
      "  10. Classifier\n"
     ]
    }
   ],
   "source": [
    "# Initialize instances of various attackers with different strategies\n",
    "att1 = GenLRA(k_nearest=5)  \n",
    "att2 = DCR()                \n",
    "att3 = DPI()                \n",
    "att4 = LOGAN()              \n",
    "att5 = DCRDiff()            \n",
    "att6 = DOMIAS()             \n",
    "att7 = MC()                 \n",
    "att8 = DensityEstimate(method=\"kde\")  \n",
    "att9 = LocalNeighborhood()  \n",
    "att10 = Classifier()        \n",
    "\n",
    "# Create a list of all attacker instances for easy iteration\n",
    "attackers = [att1, att2, att3, att4, att5, att6, att7, att8, att9, att10]\n",
    "\n",
    "print(f\"Initialized {len(attackers)} different attack methods:\")\n",
    "for i, attacker in enumerate(attackers, 1):\n",
    "    print(f\"  {i}. {attacker.name}\")"
   ]
  },
  {
   "cell_type": "markdown",
   "metadata": {},
   "source": [
    "## Execute All Attacks\n",
    "\n",
    "Now we'll systematically run each attack method and collect the results. Each attacker will:\n",
    "1. Compute attack scores for the test data\n",
    "2. Evaluate the attack using ROC metrics\n",
    "3. Store results for comparison"
   ]
  },
  {
   "cell_type": "code",
   "execution_count": 9,
   "metadata": {},
   "outputs": [
    {
     "name": "stderr",
     "output_type": "stream",
     "text": [
      "Processing Test dataset: 100%|██████████| 400/400 [00:00<00:00, 1559.89it/s]\n"
     ]
    }
   ],
   "source": [
    "# Dictionary to store evaluation results for each attacker\n",
    "results = {}\n",
    "\n",
    "for i, attacker in enumerate(attackers, 1):    \n",
    "    # Execute the attack\n",
    "    true_labels, scores = attacker.attack(mem, non_mem, synth, ref)\n",
    "    \n",
    "    # Evaluate the attack using ROC metrics\n",
    "    eval_results = attacker.eval(true_labels, scores, metrics=['roc'])\n",
    "    \n",
    "    # Store the evaluation results\n",
    "    results[attacker.name] = eval_results\n",
    "    \n",
    "results_df = pd.DataFrame(results).T\n"
   ]
  },
  {
   "cell_type": "markdown",
   "metadata": {},
   "source": [
    "## Compare Attack Results\n",
    "\n",
    "Let's display the results in a comprehensive table for easy comparison. The metrics include:\n",
    "\n",
    "- **AUC-ROC**: Area Under the ROC Curve (higher is better for attackers)\n",
    "- **TPR at FPR=0**: True Positive Rate when False Positive Rate is 0\n",
    "- **TPR at FPR=0.001**: TPR at 0.1% false positive rate\n",
    "- **TPR at FPR=0.01**: TPR at 1% false positive rate  \n",
    "- **TPR at FPR=0.1**: TPR at 10% false positive rate\n",
    "\n",
    "Higher values generally indicate more successful attacks (greater privacy leakage)."
   ]
  },
  {
   "cell_type": "code",
   "execution_count": 11,
   "metadata": {},
   "outputs": [
    {
     "data": {
      "text/html": [
       "<div>\n",
       "<style scoped>\n",
       "    .dataframe tbody tr th:only-of-type {\n",
       "        vertical-align: middle;\n",
       "    }\n",
       "\n",
       "    .dataframe tbody tr th {\n",
       "        vertical-align: top;\n",
       "    }\n",
       "\n",
       "    .dataframe thead th {\n",
       "        text-align: right;\n",
       "    }\n",
       "</style>\n",
       "<table border=\"1\" class=\"dataframe\">\n",
       "  <thead>\n",
       "    <tr style=\"text-align: right;\">\n",
       "      <th></th>\n",
       "      <th>auc_roc</th>\n",
       "      <th>tpr_at_fpr_0</th>\n",
       "      <th>tpr_at_fpr_0.001</th>\n",
       "      <th>tpr_at_fpr_0.01</th>\n",
       "      <th>tpr_at_fpr_0.1</th>\n",
       "    </tr>\n",
       "  </thead>\n",
       "  <tbody>\n",
       "    <tr>\n",
       "      <th>Gen-LRA</th>\n",
       "      <td>0.648</td>\n",
       "      <td>0.220</td>\n",
       "      <td>0.220</td>\n",
       "      <td>0.220</td>\n",
       "      <td>0.310</td>\n",
       "    </tr>\n",
       "    <tr>\n",
       "      <th>DCR</th>\n",
       "      <td>0.527</td>\n",
       "      <td>0.025</td>\n",
       "      <td>0.025</td>\n",
       "      <td>0.035</td>\n",
       "      <td>0.145</td>\n",
       "    </tr>\n",
       "    <tr>\n",
       "      <th>DPI</th>\n",
       "      <td>0.531</td>\n",
       "      <td>0.010</td>\n",
       "      <td>0.017</td>\n",
       "      <td>0.050</td>\n",
       "      <td>0.124</td>\n",
       "    </tr>\n",
       "    <tr>\n",
       "      <th>LOGAN</th>\n",
       "      <td>0.536</td>\n",
       "      <td>0.005</td>\n",
       "      <td>0.005</td>\n",
       "      <td>0.015</td>\n",
       "      <td>0.115</td>\n",
       "    </tr>\n",
       "    <tr>\n",
       "      <th>DCR-Diff</th>\n",
       "      <td>0.562</td>\n",
       "      <td>0.000</td>\n",
       "      <td>0.000</td>\n",
       "      <td>0.015</td>\n",
       "      <td>0.215</td>\n",
       "    </tr>\n",
       "    <tr>\n",
       "      <th>DOMIAS</th>\n",
       "      <td>0.684</td>\n",
       "      <td>0.020</td>\n",
       "      <td>0.020</td>\n",
       "      <td>0.055</td>\n",
       "      <td>0.270</td>\n",
       "    </tr>\n",
       "    <tr>\n",
       "      <th>MC</th>\n",
       "      <td>0.511</td>\n",
       "      <td>0.000</td>\n",
       "      <td>0.006</td>\n",
       "      <td>0.050</td>\n",
       "      <td>0.117</td>\n",
       "    </tr>\n",
       "    <tr>\n",
       "      <th>Density Estimator</th>\n",
       "      <td>0.643</td>\n",
       "      <td>0.020</td>\n",
       "      <td>0.020</td>\n",
       "      <td>0.035</td>\n",
       "      <td>0.165</td>\n",
       "    </tr>\n",
       "    <tr>\n",
       "      <th>Local Neighborhood</th>\n",
       "      <td>0.500</td>\n",
       "      <td>0.000</td>\n",
       "      <td>0.001</td>\n",
       "      <td>0.010</td>\n",
       "      <td>0.100</td>\n",
       "    </tr>\n",
       "    <tr>\n",
       "      <th>Classifier</th>\n",
       "      <td>0.646</td>\n",
       "      <td>0.030</td>\n",
       "      <td>0.030</td>\n",
       "      <td>0.100</td>\n",
       "      <td>0.360</td>\n",
       "    </tr>\n",
       "  </tbody>\n",
       "</table>\n",
       "</div>"
      ],
      "text/plain": [
       "                    auc_roc  tpr_at_fpr_0  tpr_at_fpr_0.001  tpr_at_fpr_0.01  \\\n",
       "Gen-LRA               0.648         0.220             0.220            0.220   \n",
       "DCR                   0.527         0.025             0.025            0.035   \n",
       "DPI                   0.531         0.010             0.017            0.050   \n",
       "LOGAN                 0.536         0.005             0.005            0.015   \n",
       "DCR-Diff              0.562         0.000             0.000            0.015   \n",
       "DOMIAS                0.684         0.020             0.020            0.055   \n",
       "MC                    0.511         0.000             0.006            0.050   \n",
       "Density Estimator     0.643         0.020             0.020            0.035   \n",
       "Local Neighborhood    0.500         0.000             0.001            0.010   \n",
       "Classifier            0.646         0.030             0.030            0.100   \n",
       "\n",
       "                    tpr_at_fpr_0.1  \n",
       "Gen-LRA                      0.310  \n",
       "DCR                          0.145  \n",
       "DPI                          0.124  \n",
       "LOGAN                        0.115  \n",
       "DCR-Diff                     0.215  \n",
       "DOMIAS                       0.270  \n",
       "MC                           0.117  \n",
       "Density Estimator            0.165  \n",
       "Local Neighborhood           0.100  \n",
       "Classifier                   0.360  "
      ]
     },
     "execution_count": 11,
     "metadata": {},
     "output_type": "execute_result"
    }
   ],
   "source": [
    "results_df.round(3)"
   ]
  }
 ],
 "metadata": {
  "kernelspec": {
   "display_name": "base",
   "language": "python",
   "name": "python3"
  },
  "language_info": {
   "codemirror_mode": {
    "name": "ipython",
    "version": 3
   },
   "file_extension": ".py",
   "mimetype": "text/x-python",
   "name": "python",
   "nbconvert_exporter": "python",
   "pygments_lexer": "ipython3",
   "version": "3.12.7"
  }
 },
 "nbformat": 4,
 "nbformat_minor": 2
}
