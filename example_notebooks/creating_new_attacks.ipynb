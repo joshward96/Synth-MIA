{
 "cells": [
  {
   "cell_type": "markdown",
   "metadata": {},
   "source": [
    "# Creating New MIA Attackers in Synth-MIA\n",
    "\n",
    "This notebook demonstrates how to create custom Membership Inference Attack (MIA) implementations using the Synth-MIA framework.\n",
    "\n",
    "## Overview\n",
    "\n",
    "The synth-mia library provides a robust framework for implementing MIA attacks through the `BaseAttacker` class. All custom attackers inherit from this base class, which provides:\n",
    "\n",
    "- Standardized data validation and preprocessing\n",
    "- Built-in evaluation metrics (ROC, classification, privacy, epsilon)\n",
    "- Consistent API across all attackers\n",
    "- Parameter management\n",
    "\n",
    "**Key insight: You only need to implement one method - `_compute_attack_scores()`**"
   ]
  },
  {
   "cell_type": "code",
   "execution_count": 1,
   "metadata": {},
   "outputs": [],
   "source": [
    "import numpy as np\n",
    "import pandas as pd\n",
    "from typing import Optional\n",
    "from scipy.spatial import cKDTree\n",
    "\n",
    "# Import the base class\n",
    "from synth_mia.base import BaseAttacker"
   ]
  },
  {
   "cell_type": "markdown",
   "metadata": {},
   "source": [
    "## Understanding the BaseAttacker Class\n",
    "\n",
    "Let's examine the methods available in the BaseAttacker class:"
   ]
  },
  {
   "cell_type": "code",
   "execution_count": 2,
   "metadata": {},
   "outputs": [
    {
     "name": "stdout",
     "output_type": "stream",
     "text": [
      "BaseAttacker provides these methods:\n",
      "  - __init__\n",
      "  - attack\n",
      "  - eval\n",
      "  - get_properties\n",
      "\n",
      "Key point: You only need to implement _compute_attack_scores()\n",
      "All other functionality is inherited automatically.\n"
     ]
    }
   ],
   "source": [
    "print(\"BaseAttacker provides these methods:\")\n",
    "for method in dir(BaseAttacker):\n",
    "    if not method.startswith('_') or method == '__init__':\n",
    "        print(f\"  - {method}\")\n",
    "\n",
    "print(\"\\nKey point: You only need to implement _compute_attack_scores()\")\n",
    "print(\"All other functionality is inherited automatically.\")"
   ]
  },
  {
   "cell_type": "markdown",
   "metadata": {},
   "source": [
    "## Example: Distance to Closest Record (DCR) Attack\n",
    "\n",
    "We will implement the Distance to Closest Record (DCR) attack to demonstrate the simplicity of creating custom attackers. This attack computes the distance from each test point to its closest synthetic record."
   ]
  },
  {
   "cell_type": "code",
   "execution_count": 3,
   "metadata": {},
   "outputs": [
    {
     "name": "stdout",
     "output_type": "stream",
     "text": [
      "MyDCR attacker implemented successfully.\n"
     ]
    }
   ],
   "source": [
    "class MyDCR(BaseAttacker):\n",
    "    \"\"\"\n",
    "    Distance to Closest Record (DCR) attack implementation.\n",
    "    \n",
    "    The attack hypothesis is that if a test point is very close to a synthetic record,\n",
    "    it is more likely to be a member of the original training data.\n",
    "    \"\"\"\n",
    "    \n",
    "    def __init__(self, distance_type=2):\n",
    "        \"\"\"Initialize DCR attacker.\n",
    "        \n",
    "        Args:\n",
    "            distance_type: Type of distance metric (default: 2 for L2 norm)\n",
    "        \"\"\"\n",
    "        super().__init__(distance_type=distance_type)\n",
    "        self.name = \"MyDCR\"  # Set name for identification in results\n",
    "    \n",
    "    def _compute_attack_scores(self, X_test: np.ndarray, synth: np.ndarray, \n",
    "                              ref: Optional[np.ndarray] = None) -> np.ndarray:\n",
    "        \"\"\"\n",
    "        This is the only method that needs to be implemented for a custom attacker.\n",
    "        \n",
    "        Compute attack scores based on distance to closest synthetic record.\n",
    "        \n",
    "        Args:\n",
    "            X_test: Test data (member and non-member combined)\n",
    "            synth: Synthetic data\n",
    "            ref: Reference data (not used in DCR)\n",
    "            \n",
    "        Returns:\n",
    "            Attack scores (higher scores indicate higher likelihood of membership)\n",
    "        \"\"\"\n",
    "        # Build efficient tree for nearest neighbor search\n",
    "        tree = cKDTree(synth)\n",
    "        \n",
    "        # Find distance to closest synthetic record for each test point\n",
    "        distances, _ = tree.query(X_test, k=1, p=self.distance_type)\n",
    "        \n",
    "        # Return negative distances (closer distance = higher membership score)\n",
    "        return -distances\n",
    "\n",
    "print(\"MyDCR attacker implemented successfully.\")"
   ]
  },
  {
   "cell_type": "markdown",
   "metadata": {},
   "source": [
    "## Load Test Data"
   ]
  },
  {
   "cell_type": "code",
   "execution_count": 4,
   "metadata": {},
   "outputs": [
    {
     "name": "stdout",
     "output_type": "stream",
     "text": [
      "Data shapes: mem=(200, 9), non_mem=(200, 9), synth=(200, 9)\n"
     ]
    }
   ],
   "source": [
    "# Load example data\n",
    "mem = pd.read_csv('../example_data/housing/mem.csv').values\n",
    "non_mem = pd.read_csv('../example_data/housing/non_mem.csv').values\n",
    "synth = pd.read_csv('../example_data/housing/synth.csv').values\n",
    "ref = pd.read_csv('../example_data/housing/ref.csv').values\n",
    "\n",
    "print(f\"Data shapes: mem={mem.shape}, non_mem={non_mem.shape}, synth={synth.shape}\")"
   ]
  },
  {
   "cell_type": "markdown",
   "metadata": {},
   "source": [
    "## Test the Custom Attacker\n",
    "\n",
    "Now we test our custom DCR implementation:"
   ]
  },
  {
   "cell_type": "code",
   "execution_count": 5,
   "metadata": {},
   "outputs": [
    {
     "name": "stdout",
     "output_type": "stream",
     "text": [
      "Running attack...\n",
      "Evaluating results...\n",
      "\n",
      "Results:\n",
      "{'auc_roc': 0.5274249999999999, 'tpr_at_fpr_0': 0.025, 'tpr_at_fpr_0.001': 0.025, 'tpr_at_fpr_0.01': 0.035, 'tpr_at_fpr_0.1': 0.145}\n"
     ]
    }
   ],
   "source": [
    "# Create our custom attacker\n",
    "my_dcr = MyDCR(distance_type=2)\n",
    "\n",
    "print(\"Running attack...\")\n",
    "# The attack() method is inherited - we get it automatically\n",
    "true_labels, scores = my_dcr.attack(mem, non_mem, synth, ref)\n",
    "\n",
    "print(\"Evaluating results...\")\n",
    "# The eval() method is also inherited\n",
    "results = my_dcr.eval(true_labels, scores, metrics=['roc'])\n",
    "\n",
    "print(f\"\\nResults:\")\n",
    "print(results)"
   ]
  },
  {
   "cell_type": "markdown",
   "metadata": {},
   "source": [
    "## Key Takeaways\n",
    "\n",
    "### Creating a Custom MIA Attacker\n",
    "\n",
    "The process of creating a new MIA attacker is straightforward:\n",
    "\n",
    "1. **Inherit from `BaseAttacker`**\n",
    "2. **Set `self.name` in `__init__()`** for identification in results\n",
    "3. **Implement `_compute_attack_scores()`** - this is the only required method\n",
    "4. **All other functionality is inherited**: data validation, evaluation metrics, consistent API\n",
    "\n",
    "### `_compute_attack_scores()` Requirements\n",
    "\n",
    "This method must:\n",
    "- **Accept**: `X_test` (test data), `synth` (synthetic data), `ref` (reference data, optional)\n",
    "- **Return**: Array of scores where higher scores indicate higher likelihood of membership\n",
    "- **Implement**: The core logic of your attack strategy"
   ]
  }
 ],
 "metadata": {
  "kernelspec": {
   "display_name": "base",
   "language": "python",
   "name": "python3"
  },
  "language_info": {
   "codemirror_mode": {
    "name": "ipython",
    "version": 3
   },
   "file_extension": ".py",
   "mimetype": "text/x-python",
   "name": "python",
   "nbconvert_exporter": "python",
   "pygments_lexer": "ipython3",
   "version": "3.12.7"
  }
 },
 "nbformat": 4,
 "nbformat_minor": 2
}
