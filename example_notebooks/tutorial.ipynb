{
 "cells": [
  {
   "cell_type": "markdown",
   "metadata": {},
   "source": [
    "## General Pipeline Tutorial"
   ]
  },
  {
   "cell_type": "markdown",
   "metadata": {},
   "source": [
    "#### Introduction\n",
    "Synth-MIA contains several features for making Privacy Auditing with MIAs convinient. In this tutorial, we assume that the auditor has already split their data into a train/ test and generated a synthetic dataset in which to audit."
   ]
  },
  {
   "cell_type": "code",
   "execution_count": 18,
   "metadata": {},
   "outputs": [],
   "source": [
    "import pandas as pd\n",
    "import numpy as np\n",
    "from synth_mia.attackers import *\n",
    "from synth_mia import utils, evaluation"
   ]
  },
  {
   "cell_type": "markdown",
   "metadata": {},
   "source": [
    "#### Preprocessing\n",
    "In order to run an attack, we need to split testing data into a holdout and reference set. The holdout set functions as the \"negative class\" for the attack evaluation, the training set is the \"positive class\", and the reference dataset models prior information an attacker might have about the Population distribution. The reference dataset is only needed for certain attacks.\n",
    "\n",
    "After splitting, we encode each dataset by scaling continuous variables and \"one-hot\" or \"ordinal\" encoding the categorical ones. Note: density estimation strategies usually work better with ordinal encodings as they can fail to converge in a one-hot setting."
   ]
  },
  {
   "cell_type": "code",
   "execution_count": 16,
   "metadata": {},
   "outputs": [
    {
     "name": "stdout",
     "output_type": "stream",
     "text": [
      "(250, 12) (250, 12)\n",
      "None\n"
     ]
    }
   ],
   "source": [
    "# Load the data used in the training of the model, the test set, and the final synthetic data\n",
    "train_set = pd.read_csv('../example_data/insurance/train_set.csv')\n",
    "test_set = pd.read_csv('../example_data/insurance/holdout_set.csv')\n",
    "synth_set = pd.read_csv('../example_data/insurance/bayesian_network_synth_250.csv')\n",
    "\n",
    "# Split the test set into a non-member set and a reference set\n",
    "non_member_set, reference_set = utils.create_random_equal_dfs(test_set, 250, num_dfs=2, seed=42)\n",
    "\n",
    "# Preprocess dataframes into encoded numpy arrays\n",
    "prep = utils.TabularPreprocessor(fit_target='synth', categorical_encoding='one-hot', numeric_encoding='standard')\n",
    "\n",
    "# Fit on chosen target (ref is optional if fit_target='synth')\n",
    "prep.fit(train_set, non_member_set, synth_set)\n",
    "\n",
    "# Transform all datasets\n",
    "mem, non_mem, synth, ref, transformer = prep.transform(train_set, non_member_set, synth_set)\n",
    "\n",
    "print(mem.shape, synth.shape)\n",
    "print(ref)  # None, because we didn't pass ref"
   ]
  },
  {
   "cell_type": "markdown",
   "metadata": {},
   "source": [
    "#### The Attack\n",
    "To audit the privacy of synth, initiate an attacker method. Various hyperparameters for the attack can be set in the method initialization. We then pass the 4 datasets to the attacker.attack() method which returns the predicted scores and true labels.\n"
   ]
  },
  {
   "cell_type": "code",
   "execution_count": 17,
   "metadata": {},
   "outputs": [
    {
     "data": {
      "text/html": [
       "<div>\n",
       "<style scoped>\n",
       "    .dataframe tbody tr th:only-of-type {\n",
       "        vertical-align: middle;\n",
       "    }\n",
       "\n",
       "    .dataframe tbody tr th {\n",
       "        vertical-align: top;\n",
       "    }\n",
       "\n",
       "    .dataframe thead th {\n",
       "        text-align: right;\n",
       "    }\n",
       "</style>\n",
       "<table border=\"1\" class=\"dataframe\">\n",
       "  <thead>\n",
       "    <tr style=\"text-align: right;\">\n",
       "      <th></th>\n",
       "      <th>auc_roc</th>\n",
       "      <th>tpr_at_fpr_0</th>\n",
       "      <th>tpr_at_fpr_0.001</th>\n",
       "      <th>tpr_at_fpr_0.01</th>\n",
       "      <th>tpr_at_fpr_0.1</th>\n",
       "    </tr>\n",
       "  </thead>\n",
       "  <tbody>\n",
       "    <tr>\n",
       "      <th>DCR</th>\n",
       "      <td>0.74136</td>\n",
       "      <td>0.132</td>\n",
       "      <td>0.132</td>\n",
       "      <td>0.168</td>\n",
       "      <td>0.424</td>\n",
       "    </tr>\n",
       "  </tbody>\n",
       "</table>\n",
       "</div>"
      ],
      "text/plain": [
       "     auc_roc  tpr_at_fpr_0  tpr_at_fpr_0.001  tpr_at_fpr_0.01  tpr_at_fpr_0.1\n",
       "DCR  0.74136         0.132             0.132            0.168           0.424"
      ]
     },
     "execution_count": 17,
     "metadata": {},
     "output_type": "execute_result"
    }
   ],
   "source": [
    "# Create instances of your attackers\n",
    "att1 = DCR()\n",
    "\n",
    "# Run attacks and evaluate results\n",
    "results = {}\n",
    "attackers = [att1]\n",
    "\n",
    "for attacker in attackers:\n",
    "    # Run the attack\n",
    "    true_labels, scores = attacker.attack(mem, non_mem, synth, ref)\n",
    "    \n",
    "    # Evaluate the attack\n",
    "    eval_results = attacker.eval(true_labels, scores, metrics=['roc'])\n",
    "    \n",
    "    # Store results\n",
    "    results[attacker.name] = eval_results\n",
    "\n",
    "# Print results\n",
    "pd.DataFrame(results).T"
   ]
  },
  {
   "cell_type": "markdown",
   "metadata": {},
   "source": [
    "#### Other Evaluation Methods\n",
    "If you already have labels and scores, you can evaluate them using the AttackEvaluator class which supports common classification metrics and Empirical Epsilon Bound Estimation."
   ]
  },
  {
   "cell_type": "code",
   "execution_count": 9,
   "metadata": {},
   "outputs": [
    {
     "data": {
      "text/plain": [
       "{'threshold': -0.24812695573405602,\n",
       " 'confidence_level': 0.9,\n",
       " 'epsilon_lower_bound': 1.1115228138265543,\n",
       " 'epsilon_upper_bound': 2.613494154923251}"
      ]
     },
     "execution_count": 9,
     "metadata": {},
     "output_type": "execute_result"
    }
   ],
   "source": [
    "AE = evaluation.AttackEvaluator(true_labels, scores) \n",
    "AE.epsilon_evaluator(confidence_level=.9,\n",
    "                     threshold_method = 'ratio')"
   ]
  },
  {
   "cell_type": "code",
   "execution_count": 10,
   "metadata": {},
   "outputs": [
    {
     "data": {
      "text/plain": [
       "{'accuracy': 0.68,\n",
       " 'precision': 0.68,\n",
       " 'recall': 0.68,\n",
       " 'f1_score': 0.68,\n",
       " 'true_positive_rate': 0.68,\n",
       " 'false_positive_rate': 0.32}"
      ]
     },
     "execution_count": 10,
     "metadata": {},
     "output_type": "execute_result"
    }
   ],
   "source": [
    "AE.classification_metrics(decision_threshold=np.median(scores))"
   ]
  },
  {
   "cell_type": "code",
   "execution_count": 11,
   "metadata": {},
   "outputs": [
    {
     "data": {
      "text/plain": [
       "{'auc_roc': 0.74136,\n",
       " 'tpr_at_fpr_0': 0.132,\n",
       " 'tpr_at_fpr_0.001': 0.132,\n",
       " 'tpr_at_fpr_0.01': 0.168,\n",
       " 'tpr_at_fpr_0.1': 0.424,\n",
       " 'tpr_at_fpr_0.25': 0.656}"
      ]
     },
     "execution_count": 11,
     "metadata": {},
     "output_type": "execute_result"
    }
   ],
   "source": [
    "AE.roc_metrics(target_fprs=[0,0.001,0.01,0.1,0.25])"
   ]
  },
  {
   "cell_type": "code",
   "execution_count": 12,
   "metadata": {},
   "outputs": [
    {
     "data": {
      "text/plain": [
       "{'mia_advantage': 0.36000000000000004, 'privacy_gain': 0.6399999999999999}"
      ]
     },
     "execution_count": 12,
     "metadata": {},
     "output_type": "execute_result"
    }
   ],
   "source": [
    "AE.privacy_metrics()"
   ]
  }
 ],
 "metadata": {
  "kernelspec": {
   "display_name": "base",
   "language": "python",
   "name": "python3"
  },
  "language_info": {
   "codemirror_mode": {
    "name": "ipython",
    "version": 3
   },
   "file_extension": ".py",
   "mimetype": "text/x-python",
   "name": "python",
   "nbconvert_exporter": "python",
   "pygments_lexer": "ipython3",
   "version": "3.12.7"
  }
 },
 "nbformat": 4,
 "nbformat_minor": 2
}
